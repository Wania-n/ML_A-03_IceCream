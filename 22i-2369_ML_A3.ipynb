{
 "cells": [
  {
   "cell_type": "markdown",
   "id": "a7bf3686",
   "metadata": {},
   "source": [
    "This is assignment #3 of the Machine Learning course\n",
    "Done by Wania Naeem, 22i-2369\n",
    "\n",
    "Part 1 - Model Training ------------------\n",
    "\n",
    "-> Dataset (Kaggle - Student Performance): https://www.kaggle.com/datasets/nikhil7280/student-performance-multiple-linear-regression\n",
    "\n",
    "-> I will be using this dataset for polynomial regression"
   ]
  },
  {
   "cell_type": "code",
   "execution_count": 3,
   "id": "bbe85bc1",
   "metadata": {},
   "outputs": [
    {
     "ename": "ModuleNotFoundError",
     "evalue": "No module named 'kagglehub'",
     "output_type": "error",
     "traceback": [
      "\u001b[31m---------------------------------------------------------------------------\u001b[39m",
      "\u001b[31mModuleNotFoundError\u001b[39m                       Traceback (most recent call last)",
      "\u001b[36mCell\u001b[39m\u001b[36m \u001b[39m\u001b[32mIn[3]\u001b[39m\u001b[32m, line 1\u001b[39m\n\u001b[32m----> \u001b[39m\u001b[32m1\u001b[39m \u001b[38;5;28;01mimport\u001b[39;00m\u001b[38;5;250m \u001b[39m\u001b[34;01mkagglehub\u001b[39;00m\n\u001b[32m      3\u001b[39m \u001b[38;5;66;03m# Download latest version\u001b[39;00m\n\u001b[32m      4\u001b[39m path = kagglehub.dataset_download(\u001b[33m\"\u001b[39m\u001b[33mnikhil7280/student-performance-multiple-linear-regression\u001b[39m\u001b[33m\"\u001b[39m)\n",
      "\u001b[31mModuleNotFoundError\u001b[39m: No module named 'kagglehub'"
     ]
    }
   ],
   "source": [
    "import kagglehub\n",
    "\n",
    "# Download latest version\n",
    "path = kagglehub.dataset_download(\"nikhil7280/student-performance-multiple-linear-regression\")\n",
    "\n",
    "print(\"Path to dataset files:\", path)"
   ]
  }
 ],
 "metadata": {
  "kernelspec": {
   "display_name": "Python 3",
   "language": "python",
   "name": "python3"
  },
  "language_info": {
   "codemirror_mode": {
    "name": "ipython",
    "version": 3
   },
   "file_extension": ".py",
   "mimetype": "text/x-python",
   "name": "python",
   "nbconvert_exporter": "python",
   "pygments_lexer": "ipython3",
   "version": "3.11.9"
  }
 },
 "nbformat": 4,
 "nbformat_minor": 5
}
